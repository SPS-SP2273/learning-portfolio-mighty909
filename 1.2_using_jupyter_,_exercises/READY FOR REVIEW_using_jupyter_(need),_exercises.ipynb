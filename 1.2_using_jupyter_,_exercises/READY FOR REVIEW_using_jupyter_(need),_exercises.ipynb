{
 "cells": [
  {
   "attachments": {},
   "cell_type": "markdown",
   "id": "123456",
   "metadata": {},
   "source": [
    "<div style=\"text-align:left;font-size:2em\"><span style=\"font-weight:bolder;font-size:1.25em\">SP2273 | Learning Portfolio</span><br><br><span style=\"font-weight:bold;color:darkred\">Using Jupyter (Need), Exercises</span></div>"
   ]
  },
  {
   "attachments": {},
   "cell_type": "markdown",
   "id": "123456",
   "metadata": {},
   "source": [
    "## 1 Quadratic Equations"
   ]
  },
  {
   "attachments": {},
   "cell_type": "markdown",
   "id": "123456",
   "metadata": {},
   "source": [
    "### Introduction"
   ]
  },
  {
   "cell_type": "markdown",
   "id": "b85acca9",
   "metadata": {},
   "source": [
    "![](https://upload.wikimedia.org/wikipedia/commons/thumb/f/f8/Polynomialdeg2.svg/300px-Polynomialdeg2.svg.png)\n",
    "\n",
    "(*Image from the [Wikipedia page on Quadratic equations](https://en.wikipedia.org/wiki/Quadratic_equation)*)\n",
    "\n",
    "The general form of a quadratic equation is:\n",
    "$$\n",
    "ax^{2} + bx + c = 0\n",
    "$$\n"
   ]
  },
  {
   "attachments": {},
   "cell_type": "markdown",
   "id": "123456",
   "metadata": {},
   "source": [
    "### Solutions"
   ]
  },
  {
   "cell_type": "markdown",
   "id": "123456",
   "metadata": {},
   "source": [
    "Provided $a \\ne b$, we can use an elementary algebraic method called [completing the square](https://en.wikipedia.org/wiki/Completing_the_square) to show that a quadratic equation has the following solution:\n",
    "\n",
    "$$\n",
    "x = \\dfrac{-b ± \\sqrt{b^{2} - 4ac}}{2a}\n",
    "$$"
   ]
  },
  {
   "attachments": {},
   "cell_type": "markdown",
   "id": "123456",
   "metadata": {},
   "source": [
    "### Discriminant"
   ]
  },
  {
   "cell_type": "markdown",
   "id": "123456",
   "metadata": {},
   "source": [
    "The quantity $\\Delta = b^{2} - 4ac$ is called the **discriminant** of the equation and decides the nature of its solutions. The table below shows the various possibilities. \n",
    "\n",
    "| Discriminant |  Roots |\n",
    "| :--- | :--: |\n",
    "| $\\Delta = b^{2} - 4ac = 0$   |  A single solution of $-b/(2a)$  |   \n",
    "| $\\Delta = b^{2} - 4ac \\gt 0$  |  Two distinct solutions  |   \n",
    "| $\\Delta = b^{2} - 4ac \\lt 0$   |  No real solutions; both are complex. |   "
   ]
  },
  {
   "cell_type": "markdown",
   "id": "3dfe26d4",
   "metadata": {},
   "source": [
    "### Exercise 2 (In Your Own Words)\n",
    "\n",
    "1. What is a Git repository?\n",
    "\n",
    "Git is a version control system used for collaborations. It tracks changes to files, allows you to make a branch from the main copy and edit separately from the main. \n",
    "\n",
    "2. Git keeps track of changes in the files in our repository.\n",
    "\n",
    "3. What is a commit?\n",
    "\n",
    "Committing means confirming that you want to track the changes to your local/cloud folder. It allows you to control which changes you want tracked.\n",
    "\n",
    "4. What is a push?\n",
    "\n",
    "A push is when you record the changes from your local folder onto the cloud.\n",
    "\n",
    "5. What is a pull?\n",
    "\n",
    "A pull is when you save the changes from the cloud to your local folder.\n",
    "\n",
    "6. What is the difference between GitHub and GitHub Desktop?\n",
    "\n",
    "GitHub is the collaborative repository (used to share changes with others) and GitHub desktop is the local copy of your repository."
   ]
  },
  {
   "cell_type": "markdown",
   "id": "53467ab9",
   "metadata": {},
   "source": [
    "### Exercise 3 (A Matter of Statistics)\n",
    "\n",
    "$$\n",
    "\n",
    "\\mu = \\dfrac{1}{n} \\sum_{i=1}^{n} x_i\n",
    "\n",
    "$$\n",
    "$$\n",
    "\n",
    "\\sigma = \\sqrt{\\dfrac{1}{n} \\sum_{i=1}^{n} (x_i - \\mu)^{2}}\n",
    "\n",
    "$$\n",
    "\n",
    "$$\n",
    "\n",
    "r = \\dfrac{\\sum_{i=1}^{n} (x_i - \\mu_X)(y_i - \\mu_Y)}{\\sqrt{\\sum_{i=1}^{n} (x_i - \\mu_X)^{2} \\sum_{i=1}^{n} (y_i - \\mu_Y)^{2}}}\n",
    "\n",
    "$$"
   ]
  }
 ],
 "metadata": {
  "kernelspec": {
   "display_name": "Python 3",
   "language": "python",
   "name": "python3"
  },
  "language_info": {
   "codemirror_mode": {
    "name": "ipython",
    "version": 3
   },
   "file_extension": ".py",
   "mimetype": "text/x-python",
   "name": "python",
   "nbconvert_exporter": "python",
   "pygments_lexer": "ipython3",
   "version": "3.10.6 (main, Nov 14 2022, 16:10:14) [GCC 11.3.0]"
  },
  "toc": {
   "base_numbering": 1,
   "nav_menu": {},
   "number_sections": true,
   "sideBar": true,
   "skip_h1_title": false,
   "title_cell": "Table of Contents",
   "title_sidebar": "Contents",
   "toc_cell": false,
   "toc_position": {},
   "toc_section_display": true,
   "toc_window_display": false
  },
  "vscode": {
   "interpreter": {
    "hash": "31f2aee4e71d21fbe5cf8b01ff0e069b9275f58929596ceb00d14d90e3e16cd6"
   }
  }
 },
 "nbformat": 4,
 "nbformat_minor": 5
}
