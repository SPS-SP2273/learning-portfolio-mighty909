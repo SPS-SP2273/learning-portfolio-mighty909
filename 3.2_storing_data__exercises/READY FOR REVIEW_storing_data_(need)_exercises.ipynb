{
 "cells": [
  {
   "attachments": {},
   "cell_type": "markdown",
   "id": "123456",
   "metadata": {},
   "source": [
    "<div style=\"text-align:left;font-size:2em\"><span style=\"font-weight:bolder;font-size:1.25em\">SP2273 | Learning Portfolio</span><br><br><span style=\"font-weight:bold;color:darkred\">Storing Data (Need) Exercises</span></div>"
   ]
  },
  {
   "cell_type": "markdown",
   "id": "9f4da451",
   "metadata": {},
   "source": [
    "### Exercise 1 (Total recall?)\n",
    "\n",
    "1. Two similarities between lists and arrays\n",
    "\n",
    "They both store multiple items of data; they can be arguments in a function (to output things like the length of the list), and operations can also be performed on them/their elements (to increase the length of a list or multiply the value of the elements in an array), and their elements are accessed using indexes.\n",
    "\n",
    "2. Two differences between lists and arrays\n",
    "\n",
    "Arrays will store values with the same data type, while lists can store values with different data types.\n",
    "\n",
    "The same operatiions can result in different outputs; for example, multiplying a list appends another set of the existing elements onto the list, while the same operation on an array multiplies all the elements mathematically.\n",
    "\n",
    "3. What is a dictionary?\n",
    "\n",
    "Another way of storing information, typically for term-definition pairs.\n",
    "\n",
    "A dictionary consists of sets of keys and values, where each value is tied to a key. Values can be accessed using their keys, and you can also access all the keys and all the values."
   ]
  },
  {
   "cell_type": "code",
   "execution_count": 2,
   "id": "64bf86bd",
   "metadata": {},
   "outputs": [
    {
     "name": "stdout",
     "output_type": "stream",
     "text": [
      "a1\n",
      "c3\n",
      "e5\n",
      "g7\n",
      "i9\n",
      "a1\n",
      "c3\n",
      "e5\n",
      "g7\n",
      "i9\n"
     ]
    }
   ],
   "source": [
    "# Exercise 2 (Indexing)\n",
    "\n",
    "py_list = [\"a1\", \"b2\", \"c3\", \"d4\", \"e5\", \"f6\", \"g7\", \"h8\", \"i9\", \"j10\"]\n",
    "print(py_list[0])   # Prints 'a1'\n",
    "print(py_list[2])   # Prints 'c3'\n",
    "print(py_list[4])    # Prints 'e5'\n",
    "print(py_list[6])   # Prints 'g7'\n",
    "print(py_list[8])   # Prints 'i9'\n",
    "\n",
    "for i in range(0, len(py_list), 2):\n",
    "    print(py_list[i])  # Prints every second element starting from index 0"
   ]
  },
  {
   "cell_type": "code",
   "execution_count": null,
   "id": "15964a55",
   "metadata": {},
   "outputs": [
    {
     "name": "stdout",
     "output_type": "stream",
     "text": [
      "Boron\n",
      "Boron\n",
      "Boron\n"
     ]
    }
   ],
   "source": [
    "# Exercise 3 (Index again)\n",
    "\n",
    "elements = ['Hydrogen',\n",
    "            'Helium', 'Lithium',\n",
    "            'Beryllium', 'Boron', 'Carbon',\n",
    "            'Nitrogen', 'Oxygen',\n",
    "            'Fluorine',\n",
    "            'Neon']\n",
    "\n",
    "print(elements[4])\n",
    "print(elements[-6])\n",
    "\n",
    "print(elements[-(len(elements) - 4)]) # to prevent manual counting"
   ]
  },
  {
   "cell_type": "code",
   "execution_count": 11,
   "id": "a6f31664",
   "metadata": {},
   "outputs": [
    {
     "name": "stdout",
     "output_type": "stream",
     "text": [
      "9\n"
     ]
    }
   ],
   "source": [
    "# Exercise 4 (How many ones)\n",
    "\n",
    "import numpy as np\n",
    "\n",
    "numbers=[45, 60, 1, 30, 96, 1, 96, 57, 16, 1,\n",
    "        99, 62, 86, 43, 42, 60, 59, 1, 1, 35,\n",
    "        83, 47, 34, 28, 68, 23, 22, 92, 1, 79,\n",
    "        1, 29, 94, 72, 46, 47, 1, 74, 32, 20,\n",
    "        8, 37, 35, 1, 89, 29, 86, 19, 43, 61]                  \n",
    "\n",
    "array = np.array(numbers)\n",
    "\n",
    "print(sum(array == 1))\n"
   ]
  },
  {
   "cell_type": "code",
   "execution_count": null,
   "id": "45d710bd",
   "metadata": {},
   "outputs": [
    {
     "name": "stdout",
     "output_type": "stream",
     "text": [
      "mean of x1 is 38.5\n",
      "mean of x2 is 302.5\n",
      "mean of x1 is 32.41990129534635\n",
      "mean of x2 is 326.0893282522444\n",
      "0.9871796626270701\n",
      "[[1.         0.98717966]\n",
      " [0.98717966 1.        ]]\n"
     ]
    }
   ],
   "source": [
    "# Exercise 5 (A Matter of Statistics)\n",
    "\n",
    "x_1 = [1, 4, 9, 16, 25, 36, 49, 64, 81, 100]\n",
    "x_2 = [1, 8, 27, 64, 125, 216, 343, 512, 729, 1000]\n",
    "\n",
    "array_1 = np.array(x_1)\n",
    "array_2 = np.array(x_2)\n",
    "\n",
    "print(f\"mean of x1 is {array_1.mean()}\")\n",
    "print(f\"mean of x2 is {array_2.mean()}\")\n",
    "\n",
    "print(f\"mean of x1 is {array_1.std()}\")\n",
    "print(f\"mean of x2 is {array_2.std()}\")\n",
    "\n",
    "n = len(array_1)\n",
    "sum_xy = np.sum(array_1*array_2)\n",
    "sum_x = np.sum(array_1)\n",
    "sum_y = np.sum(array_2)\n",
    "\n",
    "sum_x2 = np.sum(array_1**2)\n",
    "sum_y2 = np.sum(array_2**2)\n",
    "\n",
    "calc_coeff = (n*(sum_xy) - sum_x*sum_y)/(np.sqrt((n*sum_x2 - sum_x**2)*(n*sum_y2 - sum_y**2)))\n",
    "print(calc_coeff)\n",
    "\n",
    "print(np.corrcoef(array_1, array_2)) # very close to manually calculated value"
   ]
  }
 ],
 "metadata": {
  "kernelspec": {
   "display_name": "base",
   "language": "python",
   "name": "python3"
  },
  "language_info": {
   "codemirror_mode": {
    "name": "ipython",
    "version": 3
   },
   "file_extension": ".py",
   "mimetype": "text/x-python",
   "name": "python",
   "nbconvert_exporter": "python",
   "pygments_lexer": "ipython3",
   "version": "3.13.5"
  },
  "toc": {
   "base_numbering": 1,
   "nav_menu": {},
   "number_sections": true,
   "sideBar": true,
   "skip_h1_title": false,
   "title_cell": "Table of Contents",
   "title_sidebar": "Contents",
   "toc_cell": false,
   "toc_position": {},
   "toc_section_display": true,
   "toc_window_display": false
  }
 },
 "nbformat": 4,
 "nbformat_minor": 5
}
