{
 "cells": [
  {
   "attachments": {},
   "cell_type": "markdown",
   "id": "123456",
   "metadata": {},
   "source": [
    "<div style=\"text-align:left;font-size:2em\"><span style=\"font-weight:bolder;font-size:1.25em\">SP2273 | Learning Portfolio</span><br><br><span style=\"font-weight:bold;color:darkred\">Storing Data (Need) Exercises</span></div>"
   ]
  },
  {
   "cell_type": "markdown",
   "id": "9f4da451",
   "metadata": {},
   "source": [
    "### Exercise 1 (Total recall?)\n",
    "\n",
    "1. Two similarities between lists and arrays\n",
    "\n",
    "They both store multiple items of data; they can be arguments in a function (to output things like the length of the list), and operations can also be performed on them/their elements (to increase the length of a list or multiply the value of the elements in an array), and their elements are accessed using indexes.\n",
    "\n",
    "2. Two differences between lists and arrays\n",
    "\n",
    "Arrays will store values with the same data type, while lists can store values with different data types.\n",
    "\n",
    "The same operatiions can result in different outputs; for example, multiplying a list appends another set of the existing elements onto the list, while the same operation on an array multiplies all the elements mathematically.\n",
    "\n",
    "3. What is a dictionary?\n",
    "\n",
    "Another way of storing information, typically for term-definition pairs.\n",
    "\n",
    "A dictionary consists of sets of keys and values, where each value is tied to a key. Values can be accessed using their keys, and you can also access all the keys and all the values."
   ]
  },
  {
   "cell_type": "code",
   "execution_count": 1,
   "id": "64bf86bd",
   "metadata": {},
   "outputs": [
    {
     "name": "stdout",
     "output_type": "stream",
     "text": [
      "a1\n",
      "c3\n",
      "e5\n",
      "g7\n",
      "i9\n"
     ]
    }
   ],
   "source": [
    "# Exercise 2 (Indexing)\n",
    "\n",
    "py_list = [\"a1\", \"b2\", \"c3\", \"d4\", \"e5\", \"f6\", \"g7\", \"h8\", \"i9\", \"j10\"]\n",
    "print(py_list[0])   # Prints 'a1'\n",
    "print(py_list[2])   # Prints 'c3'\n",
    "print(py_list[4])    # Prints 'e5'\n",
    "print(py_list[6])   # Prints 'g7'\n",
    "print(py_list[8])   # Prints 'i9'"
   ]
  }
 ],
 "metadata": {
  "kernelspec": {
   "display_name": "Python 3",
   "language": "python",
   "name": "python3"
  },
  "language_info": {
   "codemirror_mode": {
    "name": "ipython",
    "version": 3
   },
   "file_extension": ".py",
   "mimetype": "text/x-python",
   "name": "python",
   "nbconvert_exporter": "python",
   "pygments_lexer": "ipython3",
   "version": "3.12.4"
  },
  "toc": {
   "base_numbering": 1,
   "nav_menu": {},
   "number_sections": true,
   "sideBar": true,
   "skip_h1_title": false,
   "title_cell": "Table of Contents",
   "title_sidebar": "Contents",
   "toc_cell": false,
   "toc_position": {},
   "toc_section_display": true,
   "toc_window_display": false
  },
  "vscode": {
   "interpreter": {
    "hash": "31f2aee4e71d21fbe5cf8b01ff0e069b9275f58929596ceb00d14d90e3e16cd6"
   }
  }
 },
 "nbformat": 4,
 "nbformat_minor": 5
}
