{
 "cells": [
  {
   "attachments": {},
   "cell_type": "markdown",
   "id": "123456",
   "metadata": {},
   "source": [
    "<div style=\"text-align:left;font-size:2em\"><span style=\"font-weight:bolder;font-size:1.25em\">SP2273 | Learning Portfolio</span><br><br><span style=\"font-weight:bold;color:darkred\">Storing Data (Good) Exercises</span></div>"
   ]
  },
  {
   "cell_type": "markdown",
   "id": "be084e06",
   "metadata": {
    "vscode": {
     "languageId": "plaintext"
    }
   },
   "source": [
    "### Exercise 1\n",
    "\n",
    "| Term |  Brief description |\n",
    "| :--: | :--: |\n",
    "| Subsetting | Subsetting means selecting part of a list/array, by either indexing or slicing |\n",
    "| Indexing | Indexing means extracting the elements (individually) of a list using their corresponding index in the list/array |\n",
    "| Slicing | Slicing means extracting multiple elements from a list - like from a starting index to the final index |\n",
    "| Masking | Masking is conditional selecting; it will only output the elements that fit the condition, kind of like an if statement |"
   ]
  },
  {
   "cell_type": "code",
   "execution_count": 35,
   "id": "aa238ad8",
   "metadata": {},
   "outputs": [
    {
     "name": "stdout",
     "output_type": "stream",
     "text": [
      "[1 1 0 0 1 1 0 0 0 1]\n",
      "[ True  True False False  True  True False False False  True]\n",
      "['A' 'C' 'E' 'G' 'I']\n"
     ]
    }
   ],
   "source": [
    "# Exercise 2\n",
    "\n",
    "import numpy as np\n",
    "\n",
    "np_array_2d = np.array([[1, \"A\"], [3, \"C\"], [2, \"B\"], [4, \"D\"],\n",
    "                        [5, \"E\"], [7, \"G\"], [6, \"F\"], [8, \"H\"],\n",
    "                        [10, \"J\"], [9, \"I\"]])\n",
    "\n",
    "array_index_0s = np_array_2d[:, 0]\n",
    "array_index_0s_int = array_index_0s.astype(int)\n",
    "\n",
    "arrayremainders = array_index_0s_int % 2\n",
    "\n",
    "print(arrayremainders)\n",
    "\n",
    "masked = arrayremainders != 0\n",
    "\n",
    "print(masked)\n",
    "\n",
    "corr2nd = np_array_2d[masked, 1]\n",
    "\n",
    "print(corr2nd)\n"
   ]
  },
  {
   "cell_type": "code",
   "execution_count": 39,
   "id": "79a03514",
   "metadata": {},
   "outputs": [
    {
     "name": "stdout",
     "output_type": "stream",
     "text": [
      "[[ 1  0  1 -1 -1]\n",
      " [ 1 -1  1 -1 -1]\n",
      " [ 1 -1 -1  1 -1]\n",
      " [-1  1  1 -1 -1]\n",
      " [ 1 -1  1 -1  1]]\n"
     ]
    }
   ],
   "source": [
    "# Exercise 3\n",
    "\n",
    "array = np.array([[66, 50, 57, -1, -1],\n",
    " [92, -1, 88, -1, -1],\n",
    " [75, -1, -1, 76, -1],\n",
    " [-1, 51, 87, -1, -1],\n",
    " [71, -1, 67, -1, 69]])\n",
    "\n",
    "\n",
    "newarray = array.copy()\n",
    "\n",
    "newarray[newarray < 50] = -1\n",
    "newarray[newarray > 50] = 1\n",
    "newarray[newarray == 50] = 0\n",
    "\n",
    "print(newarray)\n",
    "\n",
    "\n",
    "\n"
   ]
  }
 ],
 "metadata": {
  "kernelspec": {
   "display_name": "base",
   "language": "python",
   "name": "python3"
  },
  "language_info": {
   "codemirror_mode": {
    "name": "ipython",
    "version": 3
   },
   "file_extension": ".py",
   "mimetype": "text/x-python",
   "name": "python",
   "nbconvert_exporter": "python",
   "pygments_lexer": "ipython3",
   "version": "3.13.5"
  },
  "toc": {
   "base_numbering": 1,
   "nav_menu": {},
   "number_sections": true,
   "sideBar": true,
   "skip_h1_title": false,
   "title_cell": "Table of Contents",
   "title_sidebar": "Contents",
   "toc_cell": false,
   "toc_position": {},
   "toc_section_display": true,
   "toc_window_display": false
  }
 },
 "nbformat": 4,
 "nbformat_minor": 5
}
