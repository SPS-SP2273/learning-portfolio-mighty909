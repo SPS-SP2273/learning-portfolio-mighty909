{
 "cells": [
  {
   "attachments": {},
   "cell_type": "markdown",
   "id": "123456",
   "metadata": {},
   "source": [
    "<div style=\"text-align:left;font-size:2em\"><span style=\"font-weight:bolder;font-size:1.25em\">SP2273 | Learning Portfolio</span><br><br><span style=\"font-weight:bold;color:darkred\">Loops (Need) Exercises</span></div>"
   ]
  },
  {
   "cell_type": "code",
   "execution_count": 6,
   "id": "394dfdd8",
   "metadata": {},
   "outputs": [
    {
     "name": "stdout",
     "output_type": "stream",
     "text": [
      "[[0, 32.0],\n",
      " [5, 41.0],\n",
      " [10, 50.0],\n",
      " [15, 59.0],\n",
      " [20, 68.0],\n",
      " [25, 77.0],\n",
      " [30, 86.0],\n",
      " [35, 95.0],\n",
      " [40, 104.0],\n",
      " [45, 113.0],\n",
      " [50, 122.0]]\n"
     ]
    }
   ],
   "source": [
    "# Exercise 1\n",
    "\n",
    "import pprint\n",
    "\n",
    "temperatures_celsius = [\n",
    "    0, 5, 10, 15, 20, 25,\n",
    "    30, 35, 40, 45, 50\n",
    "]\n",
    "\n",
    "temperatures_fahrenheit = []\n",
    "\n",
    "for c in temperatures_celsius:\n",
    "    f = 9/5*c + 32\n",
    "    temperatures_fahrenheit.append(f)\n",
    "\n",
    "table = [[c, f] for c, f in zip(temperatures_celsius, temperatures_fahrenheit)]\n",
    "\n",
    "pprint.pprint(table)"
   ]
  },
  {
   "cell_type": "code",
   "execution_count": 15,
   "id": "4a65c7b2",
   "metadata": {},
   "outputs": [
    {
     "name": "stdout",
     "output_type": "stream",
     "text": [
      "A1\tA2\tA3\t\n",
      "\n",
      "B1\tB2\tB3\t\n",
      "\n",
      "C1\tC2\tC3\t\n",
      "\n",
      "1:\t1\t2\t3\t4\t5\t\n",
      "\n",
      "2:\t2\t4\t6\t8\t10\t\n",
      "\n",
      "3:\t3\t6\t9\t12\t15\t\n",
      "\n",
      "4:\t4\t8\t12\t16\t20\t\n",
      "\n",
      "5:\t5\t10\t15\t20\t25\t\n",
      "\n"
     ]
    }
   ],
   "source": [
    "# Exercise 2\n",
    "\n",
    "# example\n",
    "for letter in ['A', 'B', 'C']:\n",
    "    for number in [1, 2, 3]:\n",
    "        print(f'{letter}{number}', end='\\t')\n",
    "    print('\\n')\n",
    "\n",
    "# task\n",
    "for i in range(1, 6):\n",
    "    print(f'{i}:', end='\\t')\n",
    "    for k in range(1, 6):\n",
    "        print(f'{i*k}', end='\\t')\n",
    "    print('\\n')"
   ]
  },
  {
   "cell_type": "code",
   "execution_count": 18,
   "id": "9b505e1d",
   "metadata": {},
   "outputs": [
    {
     "name": "stdout",
     "output_type": "stream",
     "text": [
      "Experiment 1: No. of Heads = 5\n",
      "Experiment 2: No. of Heads = 6\n",
      "Experiment 3: No. of Heads = 2\n",
      "Experiment 4: No. of Heads = 4\n",
      "Experiment 5: No. of Heads = 7\n",
      "Experiment 6: No. of Heads = 6\n",
      "Experiment 7: No. of Heads = 4\n",
      "Experiment 8: No. of Heads = 7\n",
      "Experiment 9: No. of Heads = 4\n",
      "Experiment 10: No. of Heads = 4\n",
      "Experiment 1: No. of Heads = 6\n",
      "Experiment 2: No. of Heads = 8\n",
      "Experiment 3: No. of Heads = 4\n",
      "Experiment 4: No. of Heads = 4\n",
      "Experiment 5: No. of Heads = 4\n",
      "Experiment 6: No. of Heads = 4\n",
      "Experiment 7: No. of Heads = 6\n",
      "Experiment 8: No. of Heads = 6\n",
      "Experiment 9: No. of Heads = 3\n",
      "Experiment 10: No. of Heads = 5\n"
     ]
    }
   ],
   "source": [
    "# Exercise 3\n",
    "\n",
    "import numpy as np\n",
    "\n",
    "\n",
    "\n",
    "for i in range(1, 11):\n",
    "    heads = 0\n",
    "    array = np.random.rand(10)\n",
    "    for number in range(len(array)):\n",
    "        if array[number] > 0.5:\n",
    "            heads += 1\n",
    "    print(f'Experiment {i}: No. of Heads = {heads}')\n",
    "\n",
    "\n",
    "# or \n",
    "\n",
    "for i in range(1, 11):\n",
    "    array = np.random.rand(10)\n",
    "    heads = sum(array > 0.5)\n",
    "    print(f'Experiment {i}: No. of Heads = {heads}')"
   ]
  }
 ],
 "metadata": {
  "kernelspec": {
   "display_name": "base",
   "language": "python",
   "name": "python3"
  },
  "language_info": {
   "codemirror_mode": {
    "name": "ipython",
    "version": 3
   },
   "file_extension": ".py",
   "mimetype": "text/x-python",
   "name": "python",
   "nbconvert_exporter": "python",
   "pygments_lexer": "ipython3",
   "version": "3.13.5"
  },
  "toc": {
   "base_numbering": 1,
   "nav_menu": {},
   "number_sections": true,
   "sideBar": true,
   "skip_h1_title": false,
   "title_cell": "Table of Contents",
   "title_sidebar": "Contents",
   "toc_cell": false,
   "toc_position": {},
   "toc_section_display": true,
   "toc_window_display": false
  }
 },
 "nbformat": 4,
 "nbformat_minor": 5
}
