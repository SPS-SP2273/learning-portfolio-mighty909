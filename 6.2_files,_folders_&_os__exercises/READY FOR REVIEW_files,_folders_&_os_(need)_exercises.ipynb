{
 "cells": [
  {
   "attachments": {},
   "cell_type": "markdown",
   "id": "123456",
   "metadata": {},
   "source": [
    "<div style=\"text-align:left;font-size:2em\"><span style=\"font-weight:bolder;font-size:1.25em\">SP2273 | Learning Portfolio</span><br><br><span style=\"font-weight:bold;color:darkred\">Files, Folders & OS (Need) Exercises</span></div>"
   ]
  },
  {
   "cell_type": "code",
   "execution_count": null,
   "id": "7d6d6fe7",
   "metadata": {},
   "outputs": [
    {
     "name": "stdout",
     "output_type": "stream",
     "text": [
      "oct-08_singapore.txt ----> 10-08_singapore.txt\n",
      "jul-10_cairo.txt ----> 07-10_cairo.txt\n",
      "may-15_dhaka.txt ----> 05-15_dhaka.txt\n",
      "may-13_cairo.txt ----> 05-13_cairo.txt\n",
      "oct-21_cairo.txt ----> 10-21_cairo.txt\n",
      "jan-10_singapore.txt ----> 01-10_singapore.txt\n",
      "jun-20_tokyo.txt ----> 06-20_tokyo.txt\n",
      "aug-06_jakarta.txt ----> 08-06_jakarta.txt\n",
      "dec-21_karachi.txt ----> 12-21_karachi.txt\n",
      "jan-01_tokyo.txt ----> 01-01_tokyo.txt\n"
     ]
    }
   ],
   "source": [
    "import os\n",
    "\n",
    "dict = {\n",
    "'jan': '01', 'feb': '02', 'mar': '03',\n",
    "'apr': '04', 'may': '05', 'jun': '06',\n",
    "'jul': '07', 'aug': '08', 'sep': '09',\n",
    "'oct': '10', 'nov': '11', 'dec': '12'\n",
    "}\n",
    "\n",
    "'''\n",
    "\n",
    "old_file_name = 'oct-08_singapore.txt'\n",
    "\n",
    "old_month = old_file_name[:3] # extract month\n",
    "rest_of_old_month = old_file_name[4:]\n",
    "\n",
    "new_file_name = f'{dict[old_month]}-{rest_of_old_month}'\n",
    "print(new_file_name)\n",
    "'''\n",
    "\n",
    "def rename_my_file(old_file_name):\n",
    "    old_month = old_file_name[:3] # extract month \n",
    "    rest_of_old_month = old_file_name[4:]\n",
    "    new_file_name = f'{dict[old_month]}-{rest_of_old_month}'\n",
    "    return new_file_name\n",
    "\n",
    "month_list = ['oct-08_singapore.txt', 'jul-10_cairo.txt', 'may-15_dhaka.txt',\n",
    " 'may-13_cairo.txt', 'oct-21_cairo.txt', 'jan-10_singapore.txt',\n",
    " 'jun-20_tokyo.txt', 'aug-06_jakarta.txt', 'dec-21_karachi.txt',\n",
    " 'jan-01_tokyo.txt']\n",
    "\n",
    "for i in range(len(month_list)):\n",
    "    new_file_name = rename_my_file(month_list[i])\n",
    "    print(f\"{month_list[i]} ----> {new_file_name}\")\n",
    "\n",
    "\n",
    "\n"
   ]
  },
  {
   "cell_type": "code",
   "execution_count": null,
   "id": "e23b2ef7",
   "metadata": {},
   "outputs": [],
   "source": [
    "# actually change file names\n",
    "\n",
    "import os\n",
    "import glob\n",
    "\n",
    "month_dict = {\n",
    "'jan': '01', 'feb': '02', 'mar': '03',\n",
    "'apr': '04', 'may': '05', 'jun': '06',\n",
    "'jul': '07', 'aug': '08', 'sep': '09',\n",
    "'oct': '10', 'nov': '11', 'dec': '12'\n",
    "}\n",
    "\n",
    "def rename_my_file(old_file_name):\n",
    "    base_name = os.path.basename(old_file_name) # extracts only the file name without the full path\n",
    "    old_month = base_name[:3] # extract month \n",
    "    rest_of_old_month = base_name[4:]\n",
    "    new_file_name = f'{month_dict[old_month]}-{rest_of_old_month}'\n",
    "    new_full_path = os.path.join(os.path.dirname(old_file_name), new_file_name)\n",
    "    return new_full_path\n",
    "\n",
    "old_file_list = glob.glob(\"../os-collaboration-exercise-data/**/*.txt\", recursive=True)\n",
    "\n",
    "for old_path in old_file_list:\n",
    "    new_path = rename_my_file(old_path)\n",
    "    os.rename(old_path, new_path)\n"
   ]
  },
  {
   "cell_type": "code",
   "execution_count": 29,
   "id": "b8747903",
   "metadata": {},
   "outputs": [],
   "source": [
    "# create folder for each city\n",
    "\n",
    "city_list = ['Cairo', 'Dhaka', 'Jakarta', 'Karachi', 'Manila',\n",
    " 'Melbourne', 'Osaka', 'Shanghai', 'Singapore', 'Tokyo']\n",
    "\n",
    "base_folder = '../os-collaboration-exercise-data'\n",
    "\n",
    "for city in city_list:\n",
    "    folder_path = os.path.join(base_folder, city)\n",
    "    os.mkdir(folder_path)\n"
   ]
  },
  {
   "cell_type": "code",
   "execution_count": 32,
   "id": "849acaed",
   "metadata": {},
   "outputs": [
    {
     "data": {
      "text/plain": [
       "\"\\n\\nfor person in ['John', 'Paul', 'Ringo']:\\n    path_to_destination = os.path.join('people', person)\\n    shutil.copy('sp2273_logo.png', path_to_destination)\\n\\n    print(f'Copied file to {path_to_destination}')\\n\\n\""
      ]
     },
     "execution_count": 32,
     "metadata": {},
     "output_type": "execute_result"
    }
   ],
   "source": [
    "# copying all the files into cairo\n",
    "\n",
    "import shutil\n",
    "\n",
    "file_list_cairo = glob.glob(\"../os-collaboration-exercise-data/**/*cairo.txt\", recursive=True)\n",
    "\n",
    "cairo_folder = \"../os-collaboration-exercise-data/Cairo\"\n",
    "\n",
    "for cairo_file in file_list_cairo:\n",
    "    file_name = os.path.basename(cairo_file)\n",
    "    path_to_destination = os.path.join(cairo_folder, file_name)\n",
    "    shutil.copy(cairo_file, path_to_destination)\n",
    "\n",
    "\n",
    "'''\n",
    "\n",
    "for person in ['John', 'Paul', 'Ringo']:\n",
    "    path_to_destination = os.path.join('people', person)\n",
    "    shutil.copy('sp2273_logo.png', path_to_destination)\n",
    "\n",
    "    print(f'Copied file to {path_to_destination}')\n",
    "\n",
    "'''"
   ]
  },
  {
   "cell_type": "code",
   "execution_count": 36,
   "id": "380bac25",
   "metadata": {},
   "outputs": [],
   "source": [
    "# copying everything into each city\n",
    "\n",
    "import shutil\n",
    "\n",
    "city_list = ['Cairo', 'Dhaka', 'Jakarta', 'Karachi', 'Manila',\n",
    " 'Melbourne', 'Osaka', 'Shanghai', 'Singapore', 'Tokyo']\n",
    "\n",
    "for cityname in city_list:\n",
    "    file_list_city = glob.glob(f\"../os-collaboration-exercise-data/**/*{cityname}.txt\".lower(), recursive=True)\n",
    "    city_folder = f\"../os-collaboration-exercise-data/{cityname}\"\n",
    "    for city_file in file_list_city:\n",
    "        file_name = os.path.basename(city_file)\n",
    "        path_to_destination = os.path.join(city_folder, file_name)\n",
    "        shutil.move(city_file, path_to_destination)\n",
    "\n"
   ]
  }
 ],
 "metadata": {
  "kernelspec": {
   "display_name": "base",
   "language": "python",
   "name": "python3"
  },
  "language_info": {
   "codemirror_mode": {
    "name": "ipython",
    "version": 3
   },
   "file_extension": ".py",
   "mimetype": "text/x-python",
   "name": "python",
   "nbconvert_exporter": "python",
   "pygments_lexer": "ipython3",
   "version": "3.13.5"
  },
  "toc": {
   "base_numbering": 1,
   "nav_menu": {},
   "number_sections": true,
   "sideBar": true,
   "skip_h1_title": false,
   "title_cell": "Table of Contents",
   "title_sidebar": "Contents",
   "toc_cell": false,
   "toc_position": {},
   "toc_section_display": true,
   "toc_window_display": false
  }
 },
 "nbformat": 4,
 "nbformat_minor": 5
}
