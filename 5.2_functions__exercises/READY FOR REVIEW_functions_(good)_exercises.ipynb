{
 "cells": [
  {
   "attachments": {},
   "cell_type": "markdown",
   "id": "123456",
   "metadata": {},
   "source": [
    "<div style=\"text-align:left;font-size:2em\"><span style=\"font-weight:bolder;font-size:1.25em\">SP2273 | Learning Portfolio</span><br><br><span style=\"font-weight:bold;color:darkred\">Functions (Good) Exercises</span></div>"
   ]
  },
  {
   "cell_type": "code",
   "execution_count": 5,
   "id": "396e0d17",
   "metadata": {},
   "outputs": [
    {
     "data": {
      "text/plain": [
       "288.15"
      ]
     },
     "execution_count": 5,
     "metadata": {},
     "output_type": "execute_result"
    }
   ],
   "source": [
    "# Exercise 1\n",
    "\n",
    "def convert_celsius(temperature_celsius, target_scale=\"Fahrenheit\"):\n",
    "    if target_scale not in [\"Kelvin\", \"Fahrenheit\"]:\n",
    "        return \"error!\"\n",
    "    elif target_scale == \"Kelvin\":\n",
    "        return temperature_celsius + 273.15\n",
    "    else:\n",
    "        return temperature_celsius*9/5 + 32\n",
    "    \n",
    "convert_celsius(15, \"Kelvin\")"
   ]
  },
  {
   "cell_type": "code",
   "execution_count": 6,
   "id": "da8355af",
   "metadata": {},
   "outputs": [
    {
     "data": {
      "text/plain": [
       "283.15"
      ]
     },
     "execution_count": 6,
     "metadata": {},
     "output_type": "execute_result"
    }
   ],
   "source": [
    "# Exercise 2\n",
    "\n",
    "def convert_fahrenheit(temperature_fahrenheit, target_scale=\"Calsius\"):\n",
    "    if target_scale not in [\"Kelvin\", \"Celsius\"]:\n",
    "        return \"error!\"\n",
    "    elif target_scale == \"Kelvin\":\n",
    "        return (temperature_fahrenheit - 32)*5/9 + 273.15\n",
    "    else:\n",
    "        return (temperature_fahrenheit - 32)*5/9\n",
    "    \n",
    "convert_fahrenheit(50, \"Kelvin\")"
   ]
  },
  {
   "cell_type": "code",
   "execution_count": 8,
   "id": "3d0bb3fa",
   "metadata": {},
   "outputs": [
    {
     "name": "stdout",
     "output_type": "stream",
     "text": [
      "-6.666666666666667\n",
      "-405.66999999999996\n"
     ]
    }
   ],
   "source": [
    "# Exercise 3\n",
    "\n",
    "def convert_kelvin(temperature_kelvin, target_scale=\"Kelvin\"):\n",
    "    if target_scale not in [\"Fahrenheit\", \"Celsius\"]:\n",
    "        return \"error!\"\n",
    "    elif target_scale == \"Fahrenheit\":\n",
    "        return (temperature_kelvin - 273.15)*9/5 + 32\n",
    "    else:\n",
    "        return temperature_kelvin - 273.15\n",
    "\n",
    "\n",
    "def convert_temperature(temperature, source_scale, target_scale):\n",
    "    if source_scale == \"Celsius\":\n",
    "        return convert_celsius(temperature, target_scale)\n",
    "    elif source_scale == \"Fahrenheit\":\n",
    "        return convert_fahrenheit(temperature, target_scale)\n",
    "    elif source_scale == \"Kelvin\":\n",
    "        return convert_kelvin(temperature, target_scale)\n",
    "    \n",
    "\n",
    "print(convert_temperature(20, \"Fahrenheit\", \"Celsius\"))\n",
    "print(convert_temperature(30, \"Kelvin\", \"Fahrenheit\"))"
   ]
  }
 ],
 "metadata": {
  "kernelspec": {
   "display_name": "base",
   "language": "python",
   "name": "python3"
  },
  "language_info": {
   "codemirror_mode": {
    "name": "ipython",
    "version": 3
   },
   "file_extension": ".py",
   "mimetype": "text/x-python",
   "name": "python",
   "nbconvert_exporter": "python",
   "pygments_lexer": "ipython3",
   "version": "3.13.5"
  },
  "toc": {
   "base_numbering": 1,
   "nav_menu": {},
   "number_sections": true,
   "sideBar": true,
   "skip_h1_title": false,
   "title_cell": "Table of Contents",
   "title_sidebar": "Contents",
   "toc_cell": false,
   "toc_position": {},
   "toc_section_display": true,
   "toc_window_display": false
  }
 },
 "nbformat": 4,
 "nbformat_minor": 5
}
