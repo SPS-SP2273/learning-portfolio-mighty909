{
 "cells": [
  {
   "attachments": {},
   "cell_type": "markdown",
   "id": "123456",
   "metadata": {},
   "source": [
    "<div style=\"text-align:left;font-size:2em\"><span style=\"font-weight:bolder;font-size:1.25em\">SP2273 | Learning Portfolio</span><br><br><span style=\"font-weight:bold;color:darkred\">Fundamentals (Need) Exercises</span></div>"
   ]
  },
  {
   "cell_type": "markdown",
   "id": "8309695c",
   "metadata": {},
   "source": [
    "### Exercise 1 (Total recall?)\n",
    "\n"
   ]
  },
  {
   "cell_type": "code",
   "execution_count": 3,
   "id": "7cb2aef6",
   "metadata": {},
   "outputs": [
    {
     "name": "stdout",
     "output_type": "stream",
     "text": [
      "3 4 5\n"
     ]
    }
   ],
   "source": [
    "# Exercise 2 (Debug me)\n",
    "\n",
    "from math import *\n",
    "\n",
    "x = 3; y = 4\n",
    "z = sqrt(x**2 + y**2)\n",
    "print(x, y, int(z))"
   ]
  },
  {
   "cell_type": "markdown",
   "id": "ad3f2d3f",
   "metadata": {},
   "source": [
    "### Exercise 3 (In your own words)\n",
    "\n",
    "| # |  Term | Description |\n",
    "| :--- | :--: | :--: |\n",
    "| 1 | Function | A sequence of statements executed on the input to produce an output |\n",
    "| 2 | Arguments | The input for a function |\n",
    "| 3 | Comments | Descriptions of the code you write to help yourself and others understand the purpose of it and how it works |\n",
    "| 4 | Indentations | Spaces at the start of a line of code that tell the computer how to read the program |\n",
    "| 5 | Packages | Importing packages gives Python added functionalities and simplifies code |\n",
    "| 6 | . | The dot indicates that the function/attribute following the dot belongs to the entity that comes before the dot |\n",
    "| 7 | : | The colon comes after the function name to define what commands the function executes |\n",
    "| 8 | [] | These brackets are for arrays, lists and tables |\n",
    "| 9 | [[],[]] | More of the square brackets indicates embedded arrays/lists | \n",
    "| 10 | {} | These brackets are usually for listing the items (keys an values) in a dictionary |\n",
    "\n"
   ]
  },
  {
   "cell_type": "code",
   "execution_count": 5,
   "id": "70817498",
   "metadata": {},
   "outputs": [
    {
     "name": "stdout",
     "output_type": "stream",
     "text": [
      "2.5\n",
      "2\n",
      "1\n"
     ]
    }
   ],
   "source": [
    "# Exercise 4: More than one way to divide\n",
    "\n",
    "print(5/2) # divides normally leaving float\n",
    "\n",
    "print(5//2) # divides leaving integer (round down)\n",
    "\n",
    "print(5%2) # returns the remainder only"
   ]
  }
 ],
 "metadata": {
  "kernelspec": {
   "display_name": "Python 3",
   "language": "python",
   "name": "python3"
  },
  "language_info": {
   "codemirror_mode": {
    "name": "ipython",
    "version": 3
   },
   "file_extension": ".py",
   "mimetype": "text/x-python",
   "name": "python",
   "nbconvert_exporter": "python",
   "pygments_lexer": "ipython3",
   "version": "3.12.4"
  },
  "toc": {
   "base_numbering": 1,
   "nav_menu": {},
   "number_sections": true,
   "sideBar": true,
   "skip_h1_title": false,
   "title_cell": "Table of Contents",
   "title_sidebar": "Contents",
   "toc_cell": false,
   "toc_position": {},
   "toc_section_display": true,
   "toc_window_display": false
  },
  "vscode": {
   "interpreter": {
    "hash": "31f2aee4e71d21fbe5cf8b01ff0e069b9275f58929596ceb00d14d90e3e16cd6"
   }
  }
 },
 "nbformat": 4,
 "nbformat_minor": 5
}
